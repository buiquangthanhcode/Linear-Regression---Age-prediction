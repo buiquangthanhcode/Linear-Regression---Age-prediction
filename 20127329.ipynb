{
 "cells": [
  {
   "cell_type": "markdown",
   "metadata": {},
   "source": [
    "# <center>Đồ án 3: Linear Regression</center>"
   ]
  },
  {
   "cell_type": "markdown",
   "metadata": {},
   "source": [
    "# Thông tin sinh viên\n",
    "\n",
    "- Họ và tên: Bùi Quang Thành\n",
    "- MSSV: 20127329\n",
    "- Lớp: 20CLC08"
   ]
  },
  {
   "cell_type": "markdown",
   "metadata": {},
   "source": [
    "# Import"
   ]
  },
  {
   "cell_type": "code",
   "execution_count": 1,
   "metadata": {},
   "outputs": [],
   "source": [
    "import pandas as pd\n",
    "import numpy as np\n",
    "import matplotlib.pyplot as plt\n",
    "import math\n",
    "np.set_printoptions(suppress=True) # Hiển thị định dạng numy ở số thực gồm các chữ số thập phân sau dấu chấm"
   ]
  },
  {
   "cell_type": "markdown",
   "metadata": {},
   "source": [
    "# Đọc dữ liệu"
   ]
  },
  {
   "cell_type": "code",
   "execution_count": 2,
   "metadata": {},
   "outputs": [],
   "source": [
    "# Đọc dữ liệu bằng pandas\n",
    "train = pd.read_csv('train.csv')\n",
    "test = pd.read_csv('test.csv')\n",
    "\n",
    "# Lấy các đặc trưng X và giá trị mục tiêu y cho các tập huấn luyện (train) và kiểm tra (test)\n",
    "# ataframe (chứa 10 đặc trưng huấn luyện)\n",
    "X_train = train.iloc[:,: -1] \n",
    "y_train = train.iloc[:, -1]     # Series    (chứa 1 giá trị mục tiêu kiểm tra)\n",
    "\n",
    "X_test = test.iloc[:, :-1]      # Dataframe (chứa 10 đặc trưng kiểm tra)\n",
    "y_test = test.iloc[:, -1]       # Series    (chứa 1 giá trị mục tiêu kiểm tra)\n",
    "\n",
    "headers=['Adult Mortality', 'BMI', 'Polio', 'Diphtheria', 'HIV/AIDS', 'GDP', 'Thinness age 10-19', 'Thinness age 5-9', 'Income composition of resources', 'Schooling', 'Life expectancy']\n",
    "fiveFold=5"
   ]
  },
  {
   "cell_type": "markdown",
   "metadata": {},
   "source": [
    "# Cài đặt hàm"
   ]
  },
  {
   "cell_type": "code",
   "execution_count": 3,
   "metadata": {},
   "outputs": [],
   "source": [
    "def toNumpy(X_train,Y_train,X_test,Y_test): # chuyển đổi dữ liệu về numpy\n",
    "    X_train=X_train.to_numpy()\n",
    "    Y_train=Y_train.to_numpy()\n",
    "    X_test=X_test.to_numpy()\n",
    "    Y_test=Y_test.to_numpy()\n",
    "    return X_train,Y_train,X_test,Y_test"
   ]
  },
  {
   "cell_type": "code",
   "execution_count": 4,
   "metadata": {},
   "outputs": [],
   "source": [
    "X_train,y_train,X_test,y_test=toNumpy(X_train,y_train,X_test,y_test)"
   ]
  },
  {
   "cell_type": "code",
   "execution_count": 5,
   "metadata": {},
   "outputs": [],
   "source": [
    "def rmse(y, y_hat): # hàm tính rmse\n",
    "    return math.sqrt(np.mean((y.ravel() - y_hat.ravel())**2))"
   ]
  },
  {
   "cell_type": "code",
   "execution_count": 6,
   "metadata": {},
   "outputs": [],
   "source": [
    "def caculate_Coefficients_Matrix(X_train,Y_train):  # tính ma trận hệ số\n",
    "    X_pinv = np.linalg.inv(X_train.T @ X_train) @ X_train.T    # np.linalg.pinv(X)\n",
    "    Coefficients = X_pinv @ Y_train\n",
    "    return Coefficients"
   ]
  },
  {
   "cell_type": "code",
   "execution_count": 7,
   "metadata": {},
   "outputs": [],
   "source": [
    "def predict(Coefficients,X_test): # hàm dự đoán hồi quy tuyến tính \n",
    "    if len(X_test)==10:\n",
    "          result=np.sum(Coefficients.ravel() * X_test, axis=0)\n",
    "    else: \n",
    "     result=np.sum(Coefficients.ravel() * X_test, axis=1) \n",
    "    return result"
   ]
  },
  {
   "cell_type": "code",
   "execution_count": 8,
   "metadata": {},
   "outputs": [],
   "source": [
    "def rankingFeature(distances,headers,bestIndexOrders): # Vẽ bảng xếp hạng từng đặc trưng\n",
    "    x_hat_data = []\n",
    "    rank=1\n",
    "    for i in range(10):\n",
    "        row = []\n",
    "        row.append('x'+ str(i + 1))\n",
    "        row.append(headers[bestIndexOrders[i]])\n",
    "        row.append(np.mean(distances[bestIndexOrders[i]]))\n",
    "        row.append(rank)\n",
    "        rank=rank+1\n",
    "        x_hat_data.append(row)\n",
    "    \n",
    "    return pd.DataFrame(x_hat_data, columns=['x', 'Tính chất','RMSE','Xếp hạng'])"
   ]
  },
  {
   "cell_type": "code",
   "execution_count": 9,
   "metadata": {},
   "outputs": [],
   "source": [
    "def takeNFeatureBestIndex(data,numberFeature): # hàm lấy ra index phần tử có rmse trung bình từ nhỏ nhất -> lớn nhất\n",
    "    temp=data.copy()\n",
    "    temp = np.sort(temp)\n",
    "    temp = temp[0:numberFeature]\n",
    "    indexs=[]\n",
    "    for i in range(0,len(data)):\n",
    "        for j in range(0,len(temp)):\n",
    "            if temp[i]==data[j]:\n",
    "             indexs.append(j)\n",
    "             \n",
    "            \n",
    "   \n",
    "    return indexs"
   ]
  },
  {
   "cell_type": "code",
   "execution_count": 10,
   "metadata": {},
   "outputs": [],
   "source": [
    "def inforDesignModel(rmses): # vẽ bảng thông tin của 4 mô hình tự xây dựng\n",
    "    x_hat=[]\n",
    "    header=[\"Sử dụng 2 đặc trưng tốt nhất \",\"Sử dụng đặc trưng được chuẩn hóa(mũ 0.4)\",\"Đặc trưng tốt nhất + tốt nhì\",\"Sử dụng 10 đặc trưng + bias\"]\n",
    "    count=1\n",
    "    for i in range(len(rmses)):\n",
    "        row=[]\n",
    "        row.append(count)\n",
    "        count=count+1\n",
    "        row.append(header[i])\n",
    "        row.append(rmses[i])\n",
    "        x_hat.append(row)\n",
    "    return pd.DataFrame(x_hat, columns=['STT', 'Mô hình','RMSE'])"
   ]
  },
  {
   "cell_type": "markdown",
   "metadata": {},
   "source": [
    "# Yêu cầu 1a: Sử dụng toàn bộ 10 đặc trưng đề bài cung cấp (2 điểm) "
   ]
  },
  {
   "cell_type": "code",
   "execution_count": 11,
   "metadata": {},
   "outputs": [],
   "source": [
    "Coefficients=caculate_Coefficients_Matrix(X_train,y_train)\n",
    "\n",
    "result=predict(Coefficients,X_test)\n"
   ]
  },
  {
   "cell_type": "code",
   "execution_count": 12,
   "metadata": {},
   "outputs": [
    {
     "name": "stdout",
     "output_type": "stream",
     "text": [
      "Mô hình y = [ 0.01510136  0.09021998  0.04292182  0.13928912 -0.56733283 -0.00010077\n",
      "  0.74071344  0.1909358  24.50597359  2.39351661]*x\n",
      "RMSE toàn bộ 10 đặc trưng: 7.064046430584037\n"
     ]
    }
   ],
   "source": [
    "print(\"Mô hình y = {}*x\".format(Coefficients))\n",
    "print(\"RMSE toàn bộ 10 đặc trưng:\",rmse(y_test.reshape(len(y_test),),result))"
   ]
  },
  {
   "cell_type": "markdown",
   "metadata": {},
   "source": [
    "Công thức hồi quy\n",
    "\n",
    "$$\\text{Life expectancy} = a1x1+a2x2+a3x3+a4x4+a5x5+a6x6+a7x7+a8x8+a9x9+a10x10$$\n"
   ]
  },
  {
   "cell_type": "code",
   "execution_count": 13,
   "metadata": {},
   "outputs": [
    {
     "name": "stdout",
     "output_type": "stream",
     "text": [
      "Coefficients [ 0.01510136  0.09021998  0.04292182  0.13928912 -0.56733283 -0.00010077\n",
      "  0.74071344  0.1909358  24.50597359  2.39351661]\n"
     ]
    }
   ],
   "source": [
    "print(\"Coefficients\",Coefficients)"
   ]
  },
  {
   "cell_type": "markdown",
   "metadata": {},
   "source": [
    "Trong đó\n",
    "\n",
    "| xi      | ai |\n",
    "| ----------- | ----------- |\n",
    "|x1=Adult Mortality      |   a1=Coefficients[0]     |\n",
    "| x2=BMI   |a2=Coefficients[1]    |\n",
    "|x3=Polio     | a3=Coefficients[2]  |\n",
    "|   x4=Diphtheria        | a4=Coefficients[3] |\n",
    "| x5=HIV/AIDS      | a5=Coefficients[4]        |\n",
    "| x6=GDP  | a6=Coefficients[5]         |\n",
    "| x7=Thinness age 10-19     | a7=Coefficients[6]  |\n",
    "| x8=Thinness age 5-9 | a8=Coefficients[7]  |\n",
    "| x9=Income composition of resources     | a9=Coefficients[8]        |\n",
    "| x10=Schooling  | a10=Coefficients[9]         |\n"
   ]
  },
  {
   "cell_type": "markdown",
   "metadata": {},
   "source": [
    "# Yêu cầu 1b: Xây dựng mô hình sử dụng duy nhất 1 đặc trưng, tìm mô hình cho kết quả tốt nhất (2 điểm)"
   ]
  },
  {
   "cell_type": "markdown",
   "metadata": {},
   "source": [
    "Lưu ý: khi sử dụng cross-validation, sinh viên cần xáo trộn dữ liệu 1 lần duy nhất và thực hiện trên toàn bộ đặc trưng"
   ]
  },
  {
   "cell_type": "code",
   "execution_count": 14,
   "metadata": {},
   "outputs": [],
   "source": [
    "def fiveFoldCrossValidation(train_test_split,test_data,n_splits,message): #thêm tham số message bởi vì mô hình xây dựng ở câu c cần có ma trận hệ số \n",
    "       \n",
    "        split_train = train_test_split[:] # sao chép dữ liệu\n",
    "        test_train=test_data[:]# sao chép dữ liệu\n",
    "       \n",
    "        n = int(np.round(len(split_train) /n_splits))\n",
    "      \n",
    "        models_train = [split_train[i*n:i*n+n, :] for i in range(n_splits-1)]  # lấy dữ liệu từ 0-> n\n",
    "        models_train.append(split_train[(n_splits-1)*n:, :]) # lấy dữ liệu từ n->hết\n",
    "        distance=[]\n",
    "        models_test = [test_train[i*n:i*n+n] for i in range(n_splits-1)]\n",
    "        models_test.append(test_train[(n_splits-1)*n:,])\n",
    "\n",
    "      \n",
    "        for i in range(0,n_splits):\n",
    "            \n",
    "            A_train_data = np.concatenate(models_train[:-1], axis=0)\n",
    "            A_test_data = models_train[-1]\n",
    "            B_train_data= np.concatenate(models_test[:-1], axis=0)\n",
    "            B_test_data = models_test[-1]\n",
    "            x=caculate_Coefficients_Matrix(A_train_data,B_train_data) # tính toán ma trận hệ số dựa trên các dữ liệu huấn luyện\n",
    "           \n",
    "            if(message==\"Have bias\"): # Sử dụng cho mô hình có kết hợp bias\n",
    "               \n",
    "                predict=np.sum(x[:-1].ravel()*A_test_data[:,:-1], axis=1) \n",
    "                predict=predict+x[-1]\n",
    "                \n",
    "                \n",
    "            else:\n",
    "                \n",
    "                predict=np.sum(x.ravel() * A_test_data, axis=1) \n",
    "\n",
    "            distance.append(rmse(B_test_data,predict))\n",
    "            # distance.append(np.mean(np.absolute(B_test_data - (np.dot(A_test_data, x)))))\n",
    "            # Bắt đầu hoán đổi dữ liệu tập huấn luyện\n",
    "            tempA = models_train[-1]\n",
    "            models_train[-1] = models_train[i]\n",
    "            models_train[i] = tempA\n",
    "\n",
    "            # Bắt đầu hoán đổi dữ liệu tập kiểm tra\n",
    "            tempB = models_test[-1]\n",
    "            models_test[-1] = models_test[i]\n",
    "            models_test[i] = tempB\n",
    "            \n",
    "        return (np.mean(np.array(distance))),distance"
   ]
  },
  {
   "cell_type": "code",
   "execution_count": 15,
   "metadata": {},
   "outputs": [],
   "source": [
    "def bestNFeaturedIndex(data,numberFeature): # hàm tính toán rmse trung bình của 10 đặc trưng \n",
    "    Means=[]\n",
    "    distances=[]\n",
    "    for i in range(len(data[1])):\n",
    "        \n",
    "        mean,distance=fiveFoldCrossValidation(X_train[:, i:i + 1],y_train,fiveFold,\"No bias\") \n",
    "        Means.append(mean)\n",
    "        distances.append(distance)\n",
    "    \n",
    "    \n",
    "    return takeNFeatureBestIndex(np.array(Means),numberFeature),distances"
   ]
  },
  {
   "cell_type": "code",
   "execution_count": 16,
   "metadata": {},
   "outputs": [],
   "source": [
    "# [9, 8, 3, 2, 1, 0, 7, 6, 5, 4] -->(kết quả sử dụng phương pháp cross validation để tìm đặc trưng tốt nhất) , được sắp xếp từ theo thứ tự từ nhỏ --> lớn\n",
    "bestIndexOrders,distances = bestNFeaturedIndex(X_train,10)\n",
    "best_feature_model=caculate_Coefficients_Matrix(X_train[:,bestIndexOrders[0]:bestIndexOrders[0]+1],y_train)\n",
    "\n",
    "result=predict(best_feature_model,X_test[:,bestIndexOrders[0]:bestIndexOrders[0]+1])\n"
   ]
  },
  {
   "cell_type": "code",
   "execution_count": 17,
   "metadata": {},
   "outputs": [
    {
     "name": "stdout",
     "output_type": "stream",
     "text": [
      "Mô hình y = [5.5573994]*x\n",
      "RMSE của 1 đặc trưng tốt nhất : 10.26095039165537\n"
     ]
    }
   ],
   "source": [
    "print(\"Mô hình y = {}*x\".format(best_feature_model))\n",
    "print(\"RMSE của 1 đặc trưng tốt nhất :\", rmse(y_test.reshape(len(y_test),),result))\n"
   ]
  },
  {
   "cell_type": "code",
   "execution_count": 18,
   "metadata": {},
   "outputs": [
    {
     "data": {
      "text/html": [
       "<div>\n",
       "<style scoped>\n",
       "    .dataframe tbody tr th:only-of-type {\n",
       "        vertical-align: middle;\n",
       "    }\n",
       "\n",
       "    .dataframe tbody tr th {\n",
       "        vertical-align: top;\n",
       "    }\n",
       "\n",
       "    .dataframe thead th {\n",
       "        text-align: right;\n",
       "    }\n",
       "</style>\n",
       "<table border=\"1\" class=\"dataframe\">\n",
       "  <thead>\n",
       "    <tr style=\"text-align: right;\">\n",
       "      <th></th>\n",
       "      <th>x</th>\n",
       "      <th>Tính chất</th>\n",
       "      <th>RMSE</th>\n",
       "      <th>Xếp hạng</th>\n",
       "    </tr>\n",
       "  </thead>\n",
       "  <tbody>\n",
       "    <tr>\n",
       "      <th>0</th>\n",
       "      <td>x1</td>\n",
       "      <td>Schooling</td>\n",
       "      <td>11.820071</td>\n",
       "      <td>1</td>\n",
       "    </tr>\n",
       "    <tr>\n",
       "      <th>1</th>\n",
       "      <td>x2</td>\n",
       "      <td>Income composition of resources</td>\n",
       "      <td>13.299791</td>\n",
       "      <td>2</td>\n",
       "    </tr>\n",
       "    <tr>\n",
       "      <th>2</th>\n",
       "      <td>x3</td>\n",
       "      <td>Diphtheria</td>\n",
       "      <td>16.019288</td>\n",
       "      <td>3</td>\n",
       "    </tr>\n",
       "    <tr>\n",
       "      <th>3</th>\n",
       "      <td>x4</td>\n",
       "      <td>Polio</td>\n",
       "      <td>17.912636</td>\n",
       "      <td>4</td>\n",
       "    </tr>\n",
       "    <tr>\n",
       "      <th>4</th>\n",
       "      <td>x5</td>\n",
       "      <td>BMI</td>\n",
       "      <td>27.963793</td>\n",
       "      <td>5</td>\n",
       "    </tr>\n",
       "    <tr>\n",
       "      <th>5</th>\n",
       "      <td>x6</td>\n",
       "      <td>Adult Mortality</td>\n",
       "      <td>46.767300</td>\n",
       "      <td>6</td>\n",
       "    </tr>\n",
       "    <tr>\n",
       "      <th>6</th>\n",
       "      <td>x7</td>\n",
       "      <td>Thinness age 5-9</td>\n",
       "      <td>51.775059</td>\n",
       "      <td>7</td>\n",
       "    </tr>\n",
       "    <tr>\n",
       "      <th>7</th>\n",
       "      <td>x8</td>\n",
       "      <td>Thinness age 10-19</td>\n",
       "      <td>51.899815</td>\n",
       "      <td>8</td>\n",
       "    </tr>\n",
       "    <tr>\n",
       "      <th>8</th>\n",
       "      <td>x9</td>\n",
       "      <td>GDP</td>\n",
       "      <td>60.450393</td>\n",
       "      <td>9</td>\n",
       "    </tr>\n",
       "    <tr>\n",
       "      <th>9</th>\n",
       "      <td>x10</td>\n",
       "      <td>HIV/AIDS</td>\n",
       "      <td>69.081327</td>\n",
       "      <td>10</td>\n",
       "    </tr>\n",
       "  </tbody>\n",
       "</table>\n",
       "</div>"
      ],
      "text/plain": [
       "     x                        Tính chất       RMSE  Xếp hạng\n",
       "0   x1                        Schooling  11.820071         1\n",
       "1   x2  Income composition of resources  13.299791         2\n",
       "2   x3                       Diphtheria  16.019288         3\n",
       "3   x4                            Polio  17.912636         4\n",
       "4   x5                              BMI  27.963793         5\n",
       "5   x6                  Adult Mortality  46.767300         6\n",
       "6   x7                 Thinness age 5-9  51.775059         7\n",
       "7   x8               Thinness age 10-19  51.899815         8\n",
       "8   x9                              GDP  60.450393         9\n",
       "9  x10                         HIV/AIDS  69.081327        10"
      ]
     },
     "execution_count": 18,
     "metadata": {},
     "output_type": "execute_result"
    }
   ],
   "source": [
    "rankingFeature(distances,headers,bestIndexOrders) # bảng xếp hạng "
   ]
  },
  {
   "cell_type": "markdown",
   "metadata": {},
   "source": [
    "Công thức hồi quy\n",
    "\n",
    "$$\\text{Life expectancy} =a0*Schooling$$"
   ]
  },
  {
   "cell_type": "code",
   "execution_count": 19,
   "metadata": {},
   "outputs": [
    {
     "name": "stdout",
     "output_type": "stream",
     "text": [
      "Coefficients [5.5573994]\n"
     ]
    }
   ],
   "source": [
    "print(\"Coefficients\",best_feature_model)"
   ]
  },
  {
   "cell_type": "markdown",
   "metadata": {},
   "source": [
    "| xi      | ai |\n",
    "| -------      | ------ |\n",
    "| x0=Schooling  | a0=Coefficients[0]         |"
   ]
  },
  {
   "cell_type": "markdown",
   "metadata": {},
   "source": [
    "# Yêu cầu 1c: Sinh viên tự xây dựng mô hình, tìm mô hình cho kết quả tốt nhất (3 điểm)"
   ]
  },
  {
   "cell_type": "markdown",
   "metadata": {},
   "source": [
    "Lưu ý: khi sử dụng cross-validation, sinh viên cần xáo trộn dữ liệu 1 lần duy nhất và thực hiện trên toàn bộ $m$ mô hình mà sinh viên thiết kế"
   ]
  },
  {
   "cell_type": "markdown",
   "metadata": {},
   "source": [
    "\n",
    "\n",
    "$$\\text{Các mô hình được xây dựng}$$\n",
    "##### Features\n",
    "- Mô hình **1** : là sự kết hợp của 2 đặc trưng tốt nhất sau khi sử dụng phương pháp  **5-fold Cross Validation** \n",
    "\n",
    "- Mô hình **2** : là sự kết hợp của 3 đặc trưng tốt nhất và đã được chuẩn hóa (chi tiết phía dưới) sau khi sử dụng phương pháp  **5-fold Cross Validation** \n",
    "- Mô hình **3** : là 1 **\"đặc trưng mới\"** được cộng từ 2 đặc trưng tốt nhất sau khi sử dụng phương pháp  **5-fold Cross Validation** \n",
    "- Mô hình **4** : là sự kết hợp của 10 đặc trưng và độ lệch (bias) \n"
   ]
  },
  {
   "cell_type": "markdown",
   "metadata": {},
   "source": [
    "##### Mô Hình 1"
   ]
  },
  {
   "cell_type": "code",
   "execution_count": 20,
   "metadata": {},
   "outputs": [],
   "source": [
    "def model2FeatureBestData(data,bestIndexOrders): #Sử dụng 2 đặc trưng tốt nhất. \n",
    "    return data[:,[bestIndexOrders[0],bestIndexOrders[1]]] # trả về 1 tập dữ liệu gồm 2 đặc trưng tốt nhất "
   ]
  },
  {
   "cell_type": "code",
   "execution_count": 21,
   "metadata": {},
   "outputs": [],
   "source": [
    "\n",
    "def rmse_Model2FeatureBest(data,bestIndexOrders,y_train): \n",
    "    X_train_2Model=model2FeatureBestData(data,bestIndexOrders)\n",
    "    Coefficients=caculate_Coefficients_Matrix(X_train_2Model,y_train)\n",
    "    mean,_=fiveFoldCrossValidation(X_train_2Model,y_train,fiveFold,\"No bias\") # trả về giá trị trung bình sau khi thực hiện Cross Validation\n",
    "    return mean,Coefficients"
   ]
  },
  {
   "cell_type": "markdown",
   "metadata": {},
   "source": [
    "##### Mô Hình 2"
   ]
  },
  {
   "cell_type": "code",
   "execution_count": 22,
   "metadata": {},
   "outputs": [],
   "source": [
    "def model_3Feature_Best_Standardized_Data(data,bestIndexOrders): # chuan hoa mo hinh \n",
    "    return data[:,[bestIndexOrders[0],bestIndexOrders[1],bestIndexOrders[2]]]**0.4"
   ]
  },
  {
   "cell_type": "code",
   "execution_count": 23,
   "metadata": {},
   "outputs": [],
   "source": [
    "def rmse_Model3FeatureBestPower(data,bestIndexOrders,y_train):\n",
    "    X_train_3Model=model2FeatureBestData(data,bestIndexOrders)\n",
    "    Coefficients=caculate_Coefficients_Matrix(X_train_3Model,y_train)\n",
    "    X_train_3Model=model_3Feature_Best_Standardized_Data(data,bestIndexOrders)\n",
    "    mean,_=fiveFoldCrossValidation(X_train_3Model**0.4,y_train,fiveFold,\"No bias\")\n",
    "    return mean,Coefficients"
   ]
  },
  {
   "cell_type": "markdown",
   "metadata": {},
   "source": [
    "##### Mô Hình 3"
   ]
  },
  {
   "cell_type": "code",
   "execution_count": 24,
   "metadata": {},
   "outputs": [],
   "source": [
    "def model_2Feature_Best_Plus_Data(data,bestIndexOrders): # mô hình cộng 2 dặc trưng\n",
    "    return (data[:,[bestIndexOrders[0]]]+data[:,[bestIndexOrders[1]]])\n"
   ]
  },
  {
   "cell_type": "code",
   "execution_count": 25,
   "metadata": {},
   "outputs": [],
   "source": [
    "def rmse_Model2FeatureBestPlus(data,bestIndexOrders,y_train):# rmse mô hình cộng 2 dặc trưng\n",
    "    X_train_2ModelPlus=model_2Feature_Best_Plus_Data(data,bestIndexOrders)\n",
    "    Coefficients=caculate_Coefficients_Matrix(X_train_2ModelPlus,y_train)\n",
    "    mean,_=fiveFoldCrossValidation(X_train_2ModelPlus,y_train,fiveFold,\"No bias\")\n",
    "    return mean,Coefficients"
   ]
  },
  {
   "cell_type": "markdown",
   "metadata": {},
   "source": [
    "##### Mô Hình 4"
   ]
  },
  {
   "cell_type": "code",
   "execution_count": 26,
   "metadata": {},
   "outputs": [],
   "source": [
    "def model_Matrix_Algebra_HaveBias(data):#Hàm xây dựng dựa trên 10 đặc trưng và độ lệch (bias)\n",
    "    temp_data=data.copy()\n",
    "    newComlumn=np.ones((len(temp_data),1)) # khởi tạo 1 cột mới chứa toàn số 0\n",
    "    temp_data=np.append(temp_data,newComlumn,axis=1) # thêm cột mới tạo vào dữ liệu có sẵn\n",
    "    coefficients =caculate_Coefficients_Matrix(temp_data,y_train) # tính ma trận hệ số \n",
    "    \n",
    "    bias=coefficients[-1] # độ lệch\n",
    "    return coefficients[:-1],bias\n",
    "    "
   ]
  },
  {
   "cell_type": "code",
   "execution_count": 27,
   "metadata": {},
   "outputs": [],
   "source": [
    "def rmse_Model_Matrix_Algebra_HaveBias(X_train,y_train):\n",
    "    temp_data=X_train.copy()\n",
    "    newComlumn=np.ones((len(temp_data),1)) # khởi tạo 1 cột mới chứa toàn số 0\n",
    "    temp_data=np.append(temp_data,newComlumn,axis=1) # thêm cột mới tạo vào dữ liệu có sẵn\n",
    "    mean,_=fiveFoldCrossValidation(temp_data,y_train,fiveFold,\"Have bias\")\n",
    "    coefficients,bias=model_Matrix_Algebra_HaveBias(X_train)\n",
    "    \n",
    "    return mean,coefficients,bias"
   ]
  },
  {
   "cell_type": "markdown",
   "metadata": {},
   "source": [
    "##### Mô hình tốt nhất"
   ]
  },
  {
   "cell_type": "code",
   "execution_count": 28,
   "metadata": {},
   "outputs": [],
   "source": [
    "def my_best_model(data,bestIndexOrders,y_train):# hàm lấy ra mô hình có rmse nhỏ nhất \n",
    "    rmses=[]\n",
    "    rmseModel1,model1=rmse_Model2FeatureBest(X_train,bestIndexOrders,y_train)\n",
    "    rmses.append(rmseModel1)\n",
    "    rmseModel2,model2=rmse_Model3FeatureBestPower(X_train,bestIndexOrders,y_train)\n",
    "    rmses.append(rmseModel2)\n",
    "    rmseModel3,model3=rmse_Model2FeatureBestPlus(X_train,bestIndexOrders,y_train)\n",
    "    rmses.append(rmseModel3)\n",
    "    rmseModel4,model4,bias=rmse_Model_Matrix_Algebra_HaveBias(X_train,y_train)\n",
    "    rmses.append(rmseModel4)\n",
    "    return rmses,model4,bias\n"
   ]
  },
  {
   "cell_type": "code",
   "execution_count": 29,
   "metadata": {},
   "outputs": [
    {
     "name": "stdout",
     "output_type": "stream",
     "text": [
      "Mô hình y = [-0.0166735   0.04572407  0.00145796  0.02528803 -0.49803865  0.00006294\n",
      " -0.04033714 -0.05648104 12.70589597  0.70769451]*x + 52.43340343662611\n",
      "RMSE của mô hình tự xây dựng  3.4610550812967555\n"
     ]
    }
   ],
   "source": [
    "rmses,model4,bias=my_best_model(X_train,bestIndexOrders,y_train)\n",
    "\n",
    "\n",
    "\n",
    "predict=np.sum(model4.ravel() * X_test, axis=1) \n",
    "predict=predict+bias\n",
    "\n",
    "print(\"Mô hình y = {}*x + {}\".format(model4,bias))\n",
    "print(\"RMSE của mô hình tự xây dựng \",rmse(y_test,predict))"
   ]
  },
  {
   "cell_type": "code",
   "execution_count": 30,
   "metadata": {},
   "outputs": [
    {
     "data": {
      "text/html": [
       "<div>\n",
       "<style scoped>\n",
       "    .dataframe tbody tr th:only-of-type {\n",
       "        vertical-align: middle;\n",
       "    }\n",
       "\n",
       "    .dataframe tbody tr th {\n",
       "        vertical-align: top;\n",
       "    }\n",
       "\n",
       "    .dataframe thead th {\n",
       "        text-align: right;\n",
       "    }\n",
       "</style>\n",
       "<table border=\"1\" class=\"dataframe\">\n",
       "  <thead>\n",
       "    <tr style=\"text-align: right;\">\n",
       "      <th></th>\n",
       "      <th>STT</th>\n",
       "      <th>Mô hình</th>\n",
       "      <th>RMSE</th>\n",
       "    </tr>\n",
       "  </thead>\n",
       "  <tbody>\n",
       "    <tr>\n",
       "      <th>0</th>\n",
       "      <td>1</td>\n",
       "      <td>Sử dụng 2 đặc trưng tốt nhất</td>\n",
       "      <td>11.431486</td>\n",
       "    </tr>\n",
       "    <tr>\n",
       "      <th>1</th>\n",
       "      <td>2</td>\n",
       "      <td>Sử dụng đặc trưng được chuẩn hóa(mũ 0.4)</td>\n",
       "      <td>7.129564</td>\n",
       "    </tr>\n",
       "    <tr>\n",
       "      <th>2</th>\n",
       "      <td>3</td>\n",
       "      <td>Đặc trưng tốt nhất + tốt nhì</td>\n",
       "      <td>11.663742</td>\n",
       "    </tr>\n",
       "    <tr>\n",
       "      <th>3</th>\n",
       "      <td>4</td>\n",
       "      <td>Sử dụng 10 đặc trưng + bias</td>\n",
       "      <td>4.043032</td>\n",
       "    </tr>\n",
       "  </tbody>\n",
       "</table>\n",
       "</div>"
      ],
      "text/plain": [
       "   STT                                   Mô hình       RMSE\n",
       "0    1             Sử dụng 2 đặc trưng tốt nhất   11.431486\n",
       "1    2  Sử dụng đặc trưng được chuẩn hóa(mũ 0.4)   7.129564\n",
       "2    3              Đặc trưng tốt nhất + tốt nhì  11.663742\n",
       "3    4               Sử dụng 10 đặc trưng + bias   4.043032"
      ]
     },
     "execution_count": 30,
     "metadata": {},
     "output_type": "execute_result"
    }
   ],
   "source": [
    "inforDesignModel(rmses)"
   ]
  },
  {
   "cell_type": "markdown",
   "metadata": {},
   "source": [
    "Công thức hồi quy\n",
    "\n",
    "$$\\text{Life expectancy} = a1x1+a2x2+a3x3+a4x4+a5x5+a6x6+a7x7+a8x8+a9x9+a10x10 +bias$$"
   ]
  },
  {
   "cell_type": "code",
   "execution_count": 31,
   "metadata": {},
   "outputs": [
    {
     "name": "stdout",
     "output_type": "stream",
     "text": [
      "Coefficients:  [-0.0166735   0.04572407  0.00145796  0.02528803 -0.49803865  0.00006294\n",
      " -0.04033714 -0.05648104 12.70589597  0.70769451]\n",
      "Coefficients[10] = Bias:  52.43340343662611\n"
     ]
    }
   ],
   "source": [
    "print(\"Coefficients: \",model4)\n",
    "print(\"Coefficients[10] = Bias: \",bias)"
   ]
  },
  {
   "cell_type": "markdown",
   "metadata": {},
   "source": [
    "Trong đó\n",
    "\n",
    "| xi      | ai |\n",
    "| ----------- | ----------- |\n",
    "|x1=Adult Mortality      |   a1=Coefficients[0]     |\n",
    "| x2=BMI   |a2=Coefficients[1]    |\n",
    "|x3=Polio     | a3=Coefficients[2]  |\n",
    "|   x4=Diphtheria        | a4=Coefficients[3] |\n",
    "| x5=HIV/AIDS      | a5=Coefficients[4]        |\n",
    "| x6=GDP  | a6=Coefficients[5]         |\n",
    "| x7=Thinness age 10-19     | a7=Coefficients[6]  |\n",
    "| x8=Thinness age 5-9 | a8=Coefficients[7]  |\n",
    "| x9=Income composition of resources     | a9=Coefficients[8]        |\n",
    "| x10=Schooling  | a10=Coefficients[9]         |\n",
    "| x11=1 | a11=Coefficients[10]         |\n"
   ]
  }
 ],
 "metadata": {
  "kernelspec": {
   "display_name": "Python 3.10.5 64-bit",
   "language": "python",
   "name": "python3"
  },
  "language_info": {
   "codemirror_mode": {
    "name": "ipython",
    "version": 3
   },
   "file_extension": ".py",
   "mimetype": "text/x-python",
   "name": "python",
   "nbconvert_exporter": "python",
   "pygments_lexer": "ipython3",
   "version": "3.10.5"
  },
  "orig_nbformat": 4,
  "vscode": {
   "interpreter": {
    "hash": "3196968d684371006099b3d55edeef8ed90365227a30deaef86e5d4aa8519be0"
   }
  }
 },
 "nbformat": 4,
 "nbformat_minor": 2
}
